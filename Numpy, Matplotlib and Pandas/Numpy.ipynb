{
 "cells": [
  {
   "cell_type": "code",
   "execution_count": 2,
   "metadata": {},
   "outputs": [
    {
     "name": "stdout",
     "output_type": "stream",
     "text": [
      "Hello World\n"
     ]
    }
   ],
   "source": [
    "print(\"Hello World\")"
   ]
  },
  {
   "cell_type": "code",
   "execution_count": 3,
   "metadata": {},
   "outputs": [
    {
     "name": "stdout",
     "output_type": "stream",
     "text": [
      "Package successfully imported!\n"
     ]
    }
   ],
   "source": [
    "# importing numpy but using it as np in the whole code\n",
    "import numpy as np\n",
    "print(\"Package successfully imported!\")"
   ]
  },
  {
   "cell_type": "code",
   "execution_count": 4,
   "metadata": {},
   "outputs": [
    {
     "name": "stdout",
     "output_type": "stream",
     "text": [
      "[1 2 3 4 5]\n",
      "<class 'numpy.ndarray'>\n"
     ]
    }
   ],
   "source": [
    "# converting list to array\n",
    "list_var = [1,2,3,4,5]\n",
    "list_to_array = np.array(list_var)\n",
    "print(list_to_array)\n",
    "print(type(list_to_array))"
   ]
  },
  {
   "cell_type": "code",
   "execution_count": 5,
   "metadata": {},
   "outputs": [
    {
     "name": "stdout",
     "output_type": "stream",
     "text": [
      "[1 2 3 4 5]\n",
      "<class 'numpy.ndarray'>\n"
     ]
    }
   ],
   "source": [
    "# converting tuple to array\n",
    "tuple_var = (1,2,3,4,5)\n",
    "tuple_to_array = np.array(tuple_var)\n",
    "print(tuple_to_array)\n",
    "print(type(tuple_to_array))"
   ]
  },
  {
   "cell_type": "code",
   "execution_count": 6,
   "metadata": {},
   "outputs": [
    {
     "name": "stdout",
     "output_type": "stream",
     "text": [
      "[[1 2 3]\n",
      " [4 5 6]]\n"
     ]
    }
   ],
   "source": [
    "# multidimensional array\n",
    "array_2d = np.array([[1,2,3],[4,5,6]])\n",
    "print(array_2d)"
   ]
  },
  {
   "cell_type": "code",
   "execution_count": 7,
   "metadata": {},
   "outputs": [
    {
     "name": "stdout",
     "output_type": "stream",
     "text": [
      "[list([1, 2, 3]) list([4, 5, 6]) list([[1, 2, 3], [4, 5, 6]])]\n"
     ]
    },
    {
     "name": "stderr",
     "output_type": "stream",
     "text": [
      "/var/folders/p0/yyl2l2ps6fv1jt2sg6yk4m7c0000gn/T/ipykernel_32714/938592417.py:1: VisibleDeprecationWarning: Creating an ndarray from ragged nested sequences (which is a list-or-tuple of lists-or-tuples-or ndarrays with different lengths or shapes) is deprecated. If you meant to do this, you must specify 'dtype=object' when creating the ndarray.\n",
      "  array_3d = np.array([[1,2,3],[4,5,6],[[1,2,3],[4,5,6]]])\n"
     ]
    }
   ],
   "source": [
    "array_3d = np.array([[1,2,3],[4,5,6],[[1,2,3],[4,5,6]]])\n",
    "print(array_3d)"
   ]
  },
  {
   "cell_type": "code",
   "execution_count": 8,
   "metadata": {},
   "outputs": [
    {
     "name": "stdout",
     "output_type": "stream",
     "text": [
      "[7, 9, 11, 13, 15, 20]\n"
     ]
    }
   ],
   "source": [
    "# adding 2 lists without the numpy\n",
    "list1 = [1,2,3,4,5,9]\n",
    "list2 = [6,7,8,9,10,11]\n",
    "sum_list = []\n",
    "length1 = len(list1)\n",
    "length2 = len(list2)\n",
    "min_length = min(length1, length2)\n",
    "for i in range (0, min_length):\n",
    "    sum_list.append(list1[i] + list2[i])\n",
    "print(sum_list)"
   ]
  },
  {
   "cell_type": "code",
   "execution_count": 9,
   "metadata": {},
   "outputs": [
    {
     "name": "stdout",
     "output_type": "stream",
     "text": [
      "[ 7  9 11 13 15]\n"
     ]
    }
   ],
   "source": [
    "# adding 2 lists by converting them to array with the numpy\n",
    "array1 = np.array([1,2,3,4,5])\n",
    "array2 = np.array([6,7,8,9,10])\n",
    "sum_array = array1 + array2\n",
    "print(sum_array)"
   ]
  },
  {
   "cell_type": "code",
   "execution_count": 10,
   "metadata": {},
   "outputs": [
    {
     "name": "stdout",
     "output_type": "stream",
     "text": [
      "[1, 2, 3, 4, 5, 6, 7, 8, 9, 10]\n"
     ]
    }
   ],
   "source": [
    "# appending 2 lists\n",
    "list1 = [1,2,3,4,5]\n",
    "list2 = [6,7,8,9,10]\n",
    "sum_list = list1 + list2\n",
    "print(sum_list)"
   ]
  },
  {
   "cell_type": "code",
   "execution_count": 11,
   "metadata": {},
   "outputs": [
    {
     "name": "stdout",
     "output_type": "stream",
     "text": [
      "[[11 13 15]\n",
      " [17 19 21]]\n",
      "[[-9 -9 -9]\n",
      " [-9 -9 -9]]\n",
      "[[10 22 36]\n",
      " [52 70 90]]\n"
     ]
    }
   ],
   "source": [
    "# basic operations in the array also known as Vectorized Code\n",
    "arr1 = np.array([[1,2,3],[4,5,6]])\n",
    "arr2 = np.array([[10,11,12],[13,14,15]])\n",
    "print(arr1 + arr2)\n",
    "print(arr1 - arr2)\n",
    "print(arr1 * arr2)"
   ]
  },
  {
   "cell_type": "code",
   "execution_count": 12,
   "metadata": {},
   "outputs": [
    {
     "name": "stdout",
     "output_type": "stream",
     "text": [
      "[3 4 5 6]\n"
     ]
    }
   ],
   "source": [
    "# check in the array which value is greater than 2\n",
    "array1 = np.array([1,2,3,4,5,6])\n",
    "# array1[array1 > 2]\n",
    "print(array1[array1 > 2])"
   ]
  },
  {
   "cell_type": "code",
   "execution_count": 13,
   "metadata": {},
   "outputs": [
    {
     "name": "stdout",
     "output_type": "stream",
     "text": [
      "[ 1  3  5  7  9 11 13]\n"
     ]
    }
   ],
   "source": [
    "# functions using numpy\n",
    "arrange_array = np.array(list(range(1,15,2)))\n",
    "print(arrange_array)"
   ]
  },
  {
   "cell_type": "code",
   "execution_count": 14,
   "metadata": {},
   "outputs": [
    {
     "name": "stdout",
     "output_type": "stream",
     "text": [
      "[ 1  4  7 10 13]\n"
     ]
    }
   ],
   "source": [
    "# arange() function can also be used\n",
    "arrange_array = np.arange(1,15,3)\n",
    "print(arrange_array)"
   ]
  },
  {
   "cell_type": "code",
   "execution_count": 15,
   "metadata": {},
   "outputs": [
    {
     "name": "stdout",
     "output_type": "stream",
     "text": [
      "[0. 0. 0. 0. 0.]\n",
      "[[0. 0. 0. 0. 0.]\n",
      " [0. 0. 0. 0. 0.]\n",
      " [0. 0. 0. 0. 0.]\n",
      " [0. 0. 0. 0. 0.]\n",
      " [0. 0. 0. 0. 0.]]\n",
      "[1. 1. 1. 1. 1.]\n",
      "[[1. 1. 1. 1. 1.]\n",
      " [1. 1. 1. 1. 1.]\n",
      " [1. 1. 1. 1. 1.]\n",
      " [1. 1. 1. 1. 1.]\n",
      " [1. 1. 1. 1. 1.]]\n"
     ]
    }
   ],
   "source": [
    "# make an array contating only zeros - can be done using zeros() function\n",
    "zero_array_1d = np.zeros(5)\n",
    "print(zero_array_1d)\n",
    "zero_array_2d = np.zeros([5,5])\n",
    "print(zero_array_2d)\n",
    "\n",
    "# make an array containing only ones - can be done using ones() function\n",
    "one_array_1d = np.ones(5)\n",
    "print(one_array_1d)\n",
    "one_array_2d = np.ones([5,5])\n",
    "print(one_array_2d)"
   ]
  },
  {
   "cell_type": "code",
   "execution_count": 16,
   "metadata": {},
   "outputs": [
    {
     "name": "stdout",
     "output_type": "stream",
     "text": [
      "[4 4 4]\n",
      "[8 8 8 8 8 8]\n",
      "[[7 7 7]\n",
      " [7 7 7]\n",
      " [7 7 7]\n",
      " [7 7 7]]\n",
      "[[9 9 9 9 9]\n",
      " [9 9 9 9 9]\n",
      " [9 9 9 9 9]]\n"
     ]
    }
   ],
   "source": [
    "# for the values other than 1 and 0, we use full() function\n",
    "print(np.full(shape = 3, fill_value = 4))   # 1D array\n",
    "print(np.full(shape = 6, fill_value = 8))   # 1D array\n",
    "print(np.full(shape = (4,3), fill_value = 7))   # 2D array\n",
    "print(np.full(shape = (3,5), fill_value = 9))   # 2D array"
   ]
  },
  {
   "cell_type": "code",
   "execution_count": 17,
   "metadata": {},
   "outputs": [
    {
     "name": "stdout",
     "output_type": "stream",
     "text": [
      "[[0.93835198 0.03106866 0.65746607]\n",
      " [0.17684337 0.92496822 0.06198159]\n",
      " [0.1423027  0.39315229 0.03437636]]\n"
     ]
    }
   ],
   "source": [
    "# to create any random values\n",
    "print(np.random.random((3,3)))"
   ]
  },
  {
   "cell_type": "code",
   "execution_count": 18,
   "metadata": {},
   "outputs": [
    {
     "name": "stdout",
     "output_type": "stream",
     "text": [
      "[ 9 14  9  7 12  3 12  9  8  3]\n",
      "[[ 2 12  6]\n",
      " [11  5 13]\n",
      " [ 5  6  8]]\n"
     ]
    }
   ],
   "source": [
    "# seed, random and randint\n",
    "np.random.seed(2)       # random number will be generated from 2 and goes on\n",
    "print(np.random.randint(low = 1, high = 15, size = 10))   # lowest value is 1, highest value is 15 and size should be 10\n",
    "print(np.random.randint(low = 1, high = 15, size = (3,3)))      # creating 2D array with 3x3 matrix"
   ]
  },
  {
   "cell_type": "code",
   "execution_count": 19,
   "metadata": {},
   "outputs": [
    {
     "name": "stdout",
     "output_type": "stream",
     "text": [
      "[ 1.   8.8 16.6 24.4 32.2 40. ]\n",
      "[ 1  8 16 24 32 40]\n"
     ]
    }
   ],
   "source": [
    "# linspace - when the range and size of the output is known but the stepsize is unknown\n",
    "arr_1 = np.linspace(1,40,6)\n",
    "print(arr_1)\n",
    "arr_2 = np.linspace(1,40,6, dtype = int)\n",
    "print(arr_2)"
   ]
  },
  {
   "cell_type": "code",
   "execution_count": 20,
   "metadata": {},
   "outputs": [],
   "source": [
    "import time"
   ]
  },
  {
   "cell_type": "code",
   "execution_count": 21,
   "metadata": {},
   "outputs": [
    {
     "name": "stdout",
     "output_type": "stream",
     "text": [
      "Time Consumed:  0.028755903244018555\n"
     ]
    }
   ],
   "source": [
    "# performing an operation for the list\n",
    "list_1 = [i for i in range(200000)]\n",
    "list_2 = [j**2 for j in range(200000)]\n",
    "list_start_time = time.time()\n",
    "list_mul = list(map(lambda x, y: x*y, list_1, list_2))\n",
    "list_end_time = time.time()\n",
    "print(\"Time Consumed: \", list_end_time - list_start_time)"
   ]
  },
  {
   "cell_type": "code",
   "execution_count": 22,
   "metadata": {},
   "outputs": [
    {
     "name": "stdout",
     "output_type": "stream",
     "text": [
      "Time Consumed:  0.0004799365997314453\n"
     ]
    }
   ],
   "source": [
    "# using numpy\n",
    "arr_1 = np.array([i for i in range(200000)])\n",
    "arr_2 = np.array([j**2 for j in range(200000)])\n",
    "array_start_time = time.time()\n",
    "array_mul = arr_1 * arr_2\n",
    "array_end_time = time.time()\n",
    "print(\"Time Consumed: \", array_end_time - array_start_time)"
   ]
  }
 ],
 "metadata": {
  "kernelspec": {
   "display_name": "Python 3",
   "language": "python",
   "name": "python3"
  },
  "language_info": {
   "codemirror_mode": {
    "name": "ipython",
    "version": 3
   },
   "file_extension": ".py",
   "mimetype": "text/x-python",
   "name": "python",
   "nbconvert_exporter": "python",
   "pygments_lexer": "ipython3",
   "version": "3.9.13"
  },
  "orig_nbformat": 4
 },
 "nbformat": 4,
 "nbformat_minor": 2
}
