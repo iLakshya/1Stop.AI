{
 "cells": [
  {
   "cell_type": "code",
   "execution_count": 32,
   "metadata": {},
   "outputs": [],
   "source": [
    "import pandas as pd"
   ]
  },
  {
   "cell_type": "markdown",
   "metadata": {},
   "source": [
    "# Series"
   ]
  },
  {
   "cell_type": "code",
   "execution_count": 33,
   "metadata": {},
   "outputs": [
    {
     "name": "stdout",
     "output_type": "stream",
     "text": [
      "0     10\n",
      "1     38\n",
      "2    489\n",
      "3    123\n",
      "dtype: int64\n",
      "<class 'pandas.core.series.Series'>\n"
     ]
    }
   ],
   "source": [
    "# series\n",
    "mylist = [10,38,489,123]        # integer list\n",
    "intseries = pd.Series(mylist)\n",
    "print(intseries)\n",
    "print(type(intseries))"
   ]
  },
  {
   "cell_type": "code",
   "execution_count": 34,
   "metadata": {},
   "outputs": [
    {
     "name": "stdout",
     "output_type": "stream",
     "text": [
      "0          1\n",
      "1         10\n",
      "2    Lakshya\n",
      "dtype: object\n",
      "<class 'pandas.core.series.Series'>\n"
     ]
    }
   ],
   "source": [
    "mylist = ['1','10','Lakshya']   # string list\n",
    "strseries = pd.Series(mylist)\n",
    "print(strseries)\n",
    "print(type(strseries))"
   ]
  },
  {
   "cell_type": "code",
   "execution_count": 35,
   "metadata": {},
   "outputs": [
    {
     "name": "stdout",
     "output_type": "stream",
     "text": [
      "0         python\n",
      "1    hello world\n",
      "2        Lakshya\n",
      "3             12\n",
      "4             33\n",
      "dtype: object\n",
      "<class 'pandas.core.series.Series'>\n"
     ]
    }
   ],
   "source": [
    "strseries = pd.Series(('python', \"hello world\", 'Lakshya', 12, 33))      # string and integer tuples\n",
    "print(strseries)\n",
    "print(type(strseries))"
   ]
  },
  {
   "cell_type": "code",
   "execution_count": 36,
   "metadata": {},
   "outputs": [
    {
     "name": "stdout",
     "output_type": "stream",
     "text": [
      "DatetimeIndex(['2023-01-01', '2023-01-02', '2023-01-03', '2023-01-04',\n",
      "               '2023-01-05', '2023-01-06', '2023-01-07', '2023-01-08',\n",
      "               '2023-01-09', '2023-01-10', '2023-01-11', '2023-01-12',\n",
      "               '2023-01-13', '2023-01-14', '2023-01-15', '2023-01-16',\n",
      "               '2023-01-17', '2023-01-18', '2023-01-19', '2023-01-20',\n",
      "               '2023-01-21', '2023-01-22', '2023-01-23', '2023-01-24',\n",
      "               '2023-01-25', '2023-01-26', '2023-01-27', '2023-01-28',\n",
      "               '2023-01-29', '2023-01-30', '2023-01-31', '2023-02-01',\n",
      "               '2023-02-02', '2023-02-03', '2023-02-04', '2023-02-05',\n",
      "               '2023-02-06', '2023-02-07', '2023-02-08', '2023-02-09',\n",
      "               '2023-02-10', '2023-02-11', '2023-02-12', '2023-02-13',\n",
      "               '2023-02-14', '2023-02-15', '2023-02-16', '2023-02-17',\n",
      "               '2023-02-18', '2023-02-19', '2023-02-20', '2023-02-21',\n",
      "               '2023-02-22', '2023-02-23', '2023-02-24', '2023-02-25',\n",
      "               '2023-02-26', '2023-02-27', '2023-02-28', '2023-03-01',\n",
      "               '2023-03-02', '2023-03-03', '2023-03-04', '2023-03-05',\n",
      "               '2023-03-06', '2023-03-07', '2023-03-08', '2023-03-09',\n",
      "               '2023-03-10', '2023-03-11', '2023-03-12', '2023-03-13',\n",
      "               '2023-03-14', '2023-03-15', '2023-03-16', '2023-03-17',\n",
      "               '2023-03-18', '2023-03-19', '2023-03-20', '2023-03-21',\n",
      "               '2023-03-22', '2023-03-23', '2023-03-24', '2023-03-25',\n",
      "               '2023-03-26', '2023-03-27', '2023-03-28', '2023-03-29',\n",
      "               '2023-03-30', '2023-03-31', '2023-04-01'],\n",
      "              dtype='datetime64[ns]', freq='D')\n",
      "<class 'pandas.core.indexes.datetimes.DatetimeIndex'>\n"
     ]
    }
   ],
   "source": [
    "dateseries = pd.date_range(start='01-01-2023', end='04-01-2023')\n",
    "print(dateseries)\n",
    "print(type(dateseries))"
   ]
  },
  {
   "cell_type": "code",
   "execution_count": 37,
   "metadata": {},
   "outputs": [
    {
     "name": "stdout",
     "output_type": "stream",
     "text": [
      "Int64Index([2023, 2023, 2023, 2023, 2023, 2023, 2023, 2023, 2023, 2023, 2023,\n",
      "            2023, 2023, 2023, 2023, 2023, 2023, 2023, 2023, 2023, 2023, 2023,\n",
      "            2023, 2023, 2023, 2023, 2023, 2023, 2023, 2023, 2023, 2023, 2023,\n",
      "            2023, 2023, 2023, 2023, 2023, 2023, 2023, 2023, 2023, 2023, 2023,\n",
      "            2023, 2023, 2023, 2023, 2023, 2023, 2023, 2023, 2023, 2023, 2023,\n",
      "            2023, 2023, 2023, 2023, 2023, 2023, 2023, 2023, 2023, 2023, 2023,\n",
      "            2023, 2023, 2023, 2023, 2023, 2023, 2023, 2023, 2023, 2023, 2023,\n",
      "            2023, 2023, 2023, 2023, 2023, 2023, 2023, 2023, 2023, 2023, 2023,\n",
      "            2023, 2023, 2023],\n",
      "           dtype='int64')\n"
     ]
    }
   ],
   "source": [
    "print(dateseries.year)"
   ]
  },
  {
   "cell_type": "code",
   "execution_count": 38,
   "metadata": {},
   "outputs": [
    {
     "name": "stdout",
     "output_type": "stream",
     "text": [
      "Index(['January', 'January', 'January', 'January', 'January', 'January',\n",
      "       'January', 'January', 'January', 'January', 'January', 'January',\n",
      "       'January', 'January', 'January', 'January', 'January', 'January',\n",
      "       'January', 'January', 'January', 'January', 'January', 'January',\n",
      "       'January', 'January', 'January', 'January', 'January', 'January',\n",
      "       'January', 'February', 'February', 'February', 'February', 'February',\n",
      "       'February', 'February', 'February', 'February', 'February', 'February',\n",
      "       'February', 'February', 'February', 'February', 'February', 'February',\n",
      "       'February', 'February', 'February', 'February', 'February', 'February',\n",
      "       'February', 'February', 'February', 'February', 'February', 'March',\n",
      "       'March', 'March', 'March', 'March', 'March', 'March', 'March', 'March',\n",
      "       'March', 'March', 'March', 'March', 'March', 'March', 'March', 'March',\n",
      "       'March', 'March', 'March', 'March', 'March', 'March', 'March', 'March',\n",
      "       'March', 'March', 'March', 'March', 'March', 'March', 'April'],\n",
      "      dtype='object')\n",
      "Int64Index([1, 1, 1, 1, 1, 1, 1, 1, 1, 1, 1, 1, 1, 1, 1, 1, 1, 1, 1, 1, 1, 1,\n",
      "            1, 1, 1, 1, 1, 1, 1, 1, 1, 2, 2, 2, 2, 2, 2, 2, 2, 2, 2, 2, 2, 2,\n",
      "            2, 2, 2, 2, 2, 2, 2, 2, 2, 2, 2, 2, 2, 2, 2, 3, 3, 3, 3, 3, 3, 3,\n",
      "            3, 3, 3, 3, 3, 3, 3, 3, 3, 3, 3, 3, 3, 3, 3, 3, 3, 3, 3, 3, 3, 3,\n",
      "            3, 3, 4],\n",
      "           dtype='int64')\n"
     ]
    }
   ],
   "source": [
    "print(dateseries.month_name())\n",
    "print(dateseries.month)"
   ]
  },
  {
   "cell_type": "code",
   "execution_count": 39,
   "metadata": {},
   "outputs": [
    {
     "name": "stdout",
     "output_type": "stream",
     "text": [
      "Int64Index([6, 0, 1, 2, 3, 4, 5, 6, 0, 1, 2, 3, 4, 5, 6, 0, 1, 2, 3, 4, 5, 6,\n",
      "            0, 1, 2, 3, 4, 5, 6, 0, 1, 2, 3, 4, 5, 6, 0, 1, 2, 3, 4, 5, 6, 0,\n",
      "            1, 2, 3, 4, 5, 6, 0, 1, 2, 3, 4, 5, 6, 0, 1, 2, 3, 4, 5, 6, 0, 1,\n",
      "            2, 3, 4, 5, 6, 0, 1, 2, 3, 4, 5, 6, 0, 1, 2, 3, 4, 5, 6, 0, 1, 2,\n",
      "            3, 4, 5],\n",
      "           dtype='int64')\n",
      "Int64Index([ 1,  2,  3,  4,  5,  6,  7,  8,  9, 10, 11, 12, 13, 14, 15, 16, 17,\n",
      "            18, 19, 20, 21, 22, 23, 24, 25, 26, 27, 28, 29, 30, 31, 32, 33, 34,\n",
      "            35, 36, 37, 38, 39, 40, 41, 42, 43, 44, 45, 46, 47, 48, 49, 50, 51,\n",
      "            52, 53, 54, 55, 56, 57, 58, 59, 60, 61, 62, 63, 64, 65, 66, 67, 68,\n",
      "            69, 70, 71, 72, 73, 74, 75, 76, 77, 78, 79, 80, 81, 82, 83, 84, 85,\n",
      "            86, 87, 88, 89, 90, 91],\n",
      "           dtype='int64')\n"
     ]
    }
   ],
   "source": [
    "print(dateseries.day_of_week)\n",
    "print(dateseries.day_of_year)"
   ]
  },
  {
   "cell_type": "code",
   "execution_count": 40,
   "metadata": {},
   "outputs": [
    {
     "name": "stdout",
     "output_type": "stream",
     "text": [
      "0     1\n",
      "1    29\n",
      "2    49\n",
      "3    74\n",
      "4    89\n",
      "dtype: int64\n",
      "49\n"
     ]
    }
   ],
   "source": [
    "intseries = pd.Series([1,29,49,74,89])\n",
    "print(intseries)\n",
    "print(intseries[2])     # fetches the element of the given index"
   ]
  },
  {
   "cell_type": "code",
   "execution_count": 41,
   "metadata": {},
   "outputs": [
    {
     "name": "stdout",
     "output_type": "stream",
     "text": [
      "1       1\n",
      "b      29\n",
      "c      49\n",
      "102    74\n",
      "e      89\n",
      "dtype: int64\n",
      "74\n",
      "<class 'pandas.core.series.Series'>\n"
     ]
    }
   ],
   "source": [
    "# having own index\n",
    "intseries = pd.Series([1,29,49,74,89], index=[1,'b','c',102,'e'])\n",
    "print(intseries)\n",
    "print(intseries[102])     # fetches the element of the given index\n",
    "print(type(intseries))"
   ]
  },
  {
   "cell_type": "markdown",
   "metadata": {},
   "source": [
    "# DataFrames"
   ]
  },
  {
   "cell_type": "code",
   "execution_count": 42,
   "metadata": {},
   "outputs": [
    {
     "name": "stdout",
     "output_type": "stream",
     "text": [
      "{'roll no': [1, 2, 3, 4], 'name': ['Lakshya', 'Mayank', 'Vanshraj', 'Raghav'], 'math_score': [9, 8, 9, 9]}\n"
     ]
    }
   ],
   "source": [
    "# dataframe\n",
    "student_dict = {\n",
    "    'roll no' : [1,2,3,4],\n",
    "    'name': ['Lakshya', 'Mayank', 'Vanshraj', 'Raghav'],\n",
    "    'math_score' : [9,8,9,9]\n",
    "}\n",
    "print(student_dict)"
   ]
  },
  {
   "cell_type": "code",
   "execution_count": 43,
   "metadata": {},
   "outputs": [
    {
     "name": "stdout",
     "output_type": "stream",
     "text": [
      "   roll no      name  math_score\n",
      "0        1   Lakshya           9\n",
      "1        2    Mayank           8\n",
      "2        3  Vanshraj           9\n",
      "3        4    Raghav           9\n"
     ]
    }
   ],
   "source": [
    "student_df = pd.DataFrame(student_dict)\n",
    "print(student_df)"
   ]
  },
  {
   "cell_type": "code",
   "execution_count": 44,
   "metadata": {},
   "outputs": [
    {
     "name": "stdout",
     "output_type": "stream",
     "text": [
      "    gender race/ethnicity parental level of education         lunch  \\\n",
      "0   female        group B           bachelor's degree      standard   \n",
      "1   female        group C                some college      standard   \n",
      "2   female        group B             master's degree      standard   \n",
      "3     male        group A          associate's degree  free/reduced   \n",
      "4     male        group C                some college      standard   \n",
      "5   female        group B          associate's degree      standard   \n",
      "6   female        group B                some college      standard   \n",
      "7     male        group B                some college  free/reduced   \n",
      "8     male        group D                 high school  free/reduced   \n",
      "9   female        group B                 high school  free/reduced   \n",
      "10    male        group C          associate's degree      standard   \n",
      "\n",
      "   test preparation course  math score  reading score  writing score  \n",
      "0                     none          72             72             74  \n",
      "1                completed          69             90             88  \n",
      "2                     none          90             95             93  \n",
      "3                     none          47             57             44  \n",
      "4                     none          76             78             75  \n",
      "5                     none          71             83             78  \n",
      "6                completed          88             95             92  \n",
      "7                     none          40             43             39  \n",
      "8                completed          64             64             67  \n",
      "9                     none          38             60             50  \n",
      "10                    none          58             54             52  \n"
     ]
    }
   ],
   "source": [
    "# importing csv file\n",
    "studentsdf = pd.read_csv('StudentsPerformance.csv')\n",
    "print(studentsdf)"
   ]
  },
  {
   "cell_type": "code",
   "execution_count": 45,
   "metadata": {},
   "outputs": [
    {
     "name": "stdout",
     "output_type": "stream",
     "text": [
      "       race/ethnicity parental level of education         lunch  \\\n",
      "gender                                                            \n",
      "female        group B           bachelor's degree      standard   \n",
      "female        group C                some college      standard   \n",
      "female        group B             master's degree      standard   \n",
      "male          group A          associate's degree  free/reduced   \n",
      "male          group C                some college      standard   \n",
      "female        group B          associate's degree      standard   \n",
      "female        group B                some college      standard   \n",
      "male          group B                some college  free/reduced   \n",
      "male          group D                 high school  free/reduced   \n",
      "female        group B                 high school  free/reduced   \n",
      "male          group C          associate's degree      standard   \n",
      "\n",
      "       test preparation course  math score  reading score  writing score  \n",
      "gender                                                                    \n",
      "female                    none          72             72             74  \n",
      "female               completed          69             90             88  \n",
      "female                    none          90             95             93  \n",
      "male                      none          47             57             44  \n",
      "male                      none          76             78             75  \n",
      "female                    none          71             83             78  \n",
      "female               completed          88             95             92  \n",
      "male                      none          40             43             39  \n",
      "male                 completed          64             64             67  \n",
      "female                    none          38             60             50  \n",
      "male                      none          58             54             52  \n"
     ]
    }
   ],
   "source": [
    "studentsdff = studentsdf.set_index('gender')\n",
    "print(studentsdff)"
   ]
  },
  {
   "cell_type": "code",
   "execution_count": 46,
   "metadata": {},
   "outputs": [
    {
     "name": "stdout",
     "output_type": "stream",
     "text": [
      "   gender race/ethnicity parental level of education         lunch  \\\n",
      "0  female        group B           bachelor's degree      standard   \n",
      "1  female        group C                some college      standard   \n",
      "2  female        group B             master's degree      standard   \n",
      "3    male        group A          associate's degree  free/reduced   \n",
      "4    male        group C                some college      standard   \n",
      "\n",
      "  test preparation course  math score  reading score  writing score  \n",
      "0                    none          72             72             74  \n",
      "1               completed          69             90             88  \n",
      "2                    none          90             95             93  \n",
      "3                    none          47             57             44  \n",
      "4                    none          76             78             75  \n"
     ]
    }
   ],
   "source": [
    "print(studentsdf.head())        # starting 5 indexes will br printed be default"
   ]
  },
  {
   "cell_type": "code",
   "execution_count": 47,
   "metadata": {},
   "outputs": [
    {
     "name": "stdout",
     "output_type": "stream",
     "text": [
      "   gender race/ethnicity parental level of education     lunch  \\\n",
      "0  female        group B           bachelor's degree  standard   \n",
      "1  female        group C                some college  standard   \n",
      "2  female        group B             master's degree  standard   \n",
      "\n",
      "  test preparation course  math score  reading score  writing score  \n",
      "0                    none          72             72             74  \n",
      "1               completed          69             90             88  \n",
      "2                    none          90             95             93  \n"
     ]
    }
   ],
   "source": [
    "print(studentsdf.head(3))       # starting 3 indexes will be printed"
   ]
  },
  {
   "cell_type": "code",
   "execution_count": 48,
   "metadata": {},
   "outputs": [
    {
     "name": "stdout",
     "output_type": "stream",
     "text": [
      "    gender race/ethnicity parental level of education         lunch  \\\n",
      "6   female        group B                some college      standard   \n",
      "7     male        group B                some college  free/reduced   \n",
      "8     male        group D                 high school  free/reduced   \n",
      "9   female        group B                 high school  free/reduced   \n",
      "10    male        group C          associate's degree      standard   \n",
      "\n",
      "   test preparation course  math score  reading score  writing score  \n",
      "6                completed          88             95             92  \n",
      "7                     none          40             43             39  \n",
      "8                completed          64             64             67  \n",
      "9                     none          38             60             50  \n",
      "10                    none          58             54             52  \n"
     ]
    }
   ],
   "source": [
    "print(studentsdf.tail())        # last 5 elements will be printed by default"
   ]
  },
  {
   "cell_type": "code",
   "execution_count": 49,
   "metadata": {},
   "outputs": [
    {
     "name": "stdout",
     "output_type": "stream",
     "text": [
      "    gender race/ethnicity parental level of education         lunch  \\\n",
      "8     male        group D                 high school  free/reduced   \n",
      "9   female        group B                 high school  free/reduced   \n",
      "10    male        group C          associate's degree      standard   \n",
      "\n",
      "   test preparation course  math score  reading score  writing score  \n",
      "8                completed          64             64             67  \n",
      "9                     none          38             60             50  \n",
      "10                    none          58             54             52  \n"
     ]
    }
   ],
   "source": [
    "print(studentsdf.tail(3))       # last 3 elements will be printed"
   ]
  },
  {
   "cell_type": "code",
   "execution_count": 50,
   "metadata": {},
   "outputs": [
    {
     "name": "stdout",
     "output_type": "stream",
     "text": [
      "<class 'pandas.core.frame.DataFrame'>\n",
      "RangeIndex: 11 entries, 0 to 10\n",
      "Data columns (total 8 columns):\n",
      " #   Column                       Non-Null Count  Dtype \n",
      "---  ------                       --------------  ----- \n",
      " 0   gender                       11 non-null     object\n",
      " 1   race/ethnicity               11 non-null     object\n",
      " 2   parental level of education  11 non-null     object\n",
      " 3   lunch                        11 non-null     object\n",
      " 4   test preparation course      11 non-null     object\n",
      " 5   math score                   11 non-null     int64 \n",
      " 6   reading score                11 non-null     int64 \n",
      " 7   writing score                11 non-null     int64 \n",
      "dtypes: int64(3), object(5)\n",
      "memory usage: 832.0+ bytes\n",
      "None\n"
     ]
    }
   ],
   "source": [
    "print(studentsdf.info())"
   ]
  },
  {
   "cell_type": "code",
   "execution_count": 51,
   "metadata": {},
   "outputs": [
    {
     "name": "stdout",
     "output_type": "stream",
     "text": [
      "(11, 8)\n"
     ]
    }
   ],
   "source": [
    "print(studentsdf.shape)"
   ]
  },
  {
   "cell_type": "code",
   "execution_count": 52,
   "metadata": {},
   "outputs": [
    {
     "name": "stdout",
     "output_type": "stream",
     "text": [
      "       math score  reading score  writing score\n",
      "count   11.000000      11.000000      11.000000\n",
      "mean    64.818182      71.909091      68.363636\n",
      "std     17.617140      17.711321      19.448767\n",
      "min     38.000000      43.000000      39.000000\n",
      "25%     52.500000      58.500000      51.000000\n",
      "50%     69.000000      72.000000      74.000000\n",
      "75%     74.000000      86.500000      83.000000\n",
      "max     90.000000      95.000000      93.000000\n"
     ]
    }
   ],
   "source": [
    "print(studentsdf.describe())"
   ]
  },
  {
   "cell_type": "code",
   "execution_count": 53,
   "metadata": {},
   "outputs": [
    {
     "name": "stdout",
     "output_type": "stream",
     "text": [
      "[['female' 'group B' \"bachelor's degree\" 'standard' 'none' 72 72 74]\n",
      " ['female' 'group C' 'some college' 'standard' 'completed' 69 90 88]\n",
      " ['female' 'group B' \"master's degree\" 'standard' 'none' 90 95 93]\n",
      " ['male' 'group A' \"associate's degree\" 'free/reduced' 'none' 47 57 44]\n",
      " ['male' 'group C' 'some college' 'standard' 'none' 76 78 75]\n",
      " ['female' 'group B' \"associate's degree\" 'standard' 'none' 71 83 78]\n",
      " ['female' 'group B' 'some college' 'standard' 'completed' 88 95 92]\n",
      " ['male' 'group B' 'some college' 'free/reduced' 'none' 40 43 39]\n",
      " ['male' 'group D' 'high school' 'free/reduced' 'completed' 64 64 67]\n",
      " ['female' 'group B' 'high school' 'free/reduced' 'none' 38 60 50]\n",
      " ['male' 'group C' \"associate's degree\" 'standard' 'none' 58 54 52]]\n"
     ]
    }
   ],
   "source": [
    "print(studentsdf.values)"
   ]
  },
  {
   "cell_type": "code",
   "execution_count": 54,
   "metadata": {},
   "outputs": [
    {
     "name": "stdout",
     "output_type": "stream",
     "text": [
      "gender                         11\n",
      "race/ethnicity                 11\n",
      "parental level of education    11\n",
      "lunch                          11\n",
      "test preparation course        11\n",
      "math score                     11\n",
      "reading score                  11\n",
      "writing score                  11\n",
      "dtype: int64\n"
     ]
    }
   ],
   "source": [
    "print(studentsdf.count())"
   ]
  },
  {
   "cell_type": "code",
   "execution_count": 63,
   "metadata": {},
   "outputs": [
    {
     "data": {
      "text/html": [
       "<div>\n",
       "<style scoped>\n",
       "    .dataframe tbody tr th:only-of-type {\n",
       "        vertical-align: middle;\n",
       "    }\n",
       "\n",
       "    .dataframe tbody tr th {\n",
       "        vertical-align: top;\n",
       "    }\n",
       "\n",
       "    .dataframe thead th {\n",
       "        text-align: right;\n",
       "    }\n",
       "</style>\n",
       "<table border=\"1\" class=\"dataframe\">\n",
       "  <thead>\n",
       "    <tr style=\"text-align: right;\">\n",
       "      <th></th>\n",
       "      <th>gender</th>\n",
       "      <th>race/ethnicity</th>\n",
       "      <th>parental level of education</th>\n",
       "      <th>lunch</th>\n",
       "      <th>test preparation course</th>\n",
       "      <th>math score</th>\n",
       "      <th>reading score</th>\n",
       "      <th>writing score</th>\n",
       "    </tr>\n",
       "  </thead>\n",
       "  <tbody>\n",
       "    <tr>\n",
       "      <th>2</th>\n",
       "      <td>female</td>\n",
       "      <td>group B</td>\n",
       "      <td>master's degree</td>\n",
       "      <td>standard</td>\n",
       "      <td>none</td>\n",
       "      <td>90</td>\n",
       "      <td>95</td>\n",
       "      <td>93</td>\n",
       "    </tr>\n",
       "    <tr>\n",
       "      <th>4</th>\n",
       "      <td>male</td>\n",
       "      <td>group C</td>\n",
       "      <td>some college</td>\n",
       "      <td>standard</td>\n",
       "      <td>none</td>\n",
       "      <td>76</td>\n",
       "      <td>78</td>\n",
       "      <td>75</td>\n",
       "    </tr>\n",
       "    <tr>\n",
       "      <th>6</th>\n",
       "      <td>female</td>\n",
       "      <td>group B</td>\n",
       "      <td>some college</td>\n",
       "      <td>standard</td>\n",
       "      <td>completed</td>\n",
       "      <td>88</td>\n",
       "      <td>95</td>\n",
       "      <td>92</td>\n",
       "    </tr>\n",
       "    <tr>\n",
       "      <th>8</th>\n",
       "      <td>male</td>\n",
       "      <td>group D</td>\n",
       "      <td>high school</td>\n",
       "      <td>free/reduced</td>\n",
       "      <td>completed</td>\n",
       "      <td>64</td>\n",
       "      <td>64</td>\n",
       "      <td>67</td>\n",
       "    </tr>\n",
       "    <tr>\n",
       "      <th>10</th>\n",
       "      <td>male</td>\n",
       "      <td>group C</td>\n",
       "      <td>associate's degree</td>\n",
       "      <td>standard</td>\n",
       "      <td>none</td>\n",
       "      <td>58</td>\n",
       "      <td>54</td>\n",
       "      <td>52</td>\n",
       "    </tr>\n",
       "  </tbody>\n",
       "</table>\n",
       "</div>"
      ],
      "text/plain": [
       "    gender race/ethnicity parental level of education         lunch  \\\n",
       "2   female        group B             master's degree      standard   \n",
       "4     male        group C                some college      standard   \n",
       "6   female        group B                some college      standard   \n",
       "8     male        group D                 high school  free/reduced   \n",
       "10    male        group C          associate's degree      standard   \n",
       "\n",
       "   test preparation course  math score  reading score  writing score  \n",
       "2                     none          90             95             93  \n",
       "4                     none          76             78             75  \n",
       "6                completed          88             95             92  \n",
       "8                completed          64             64             67  \n",
       "10                    none          58             54             52  "
      ]
     },
     "execution_count": 63,
     "metadata": {},
     "output_type": "execute_result"
    }
   ],
   "source": [
    "studentsdf[2::2]"
   ]
  },
  {
   "cell_type": "code",
   "execution_count": 65,
   "metadata": {},
   "outputs": [
    {
     "name": "stdout",
     "output_type": "stream",
     "text": [
      "group B\n"
     ]
    }
   ],
   "source": [
    "print(studentsdf.loc[7, 'race/ethnicity'])"
   ]
  },
  {
   "cell_type": "code",
   "execution_count": 71,
   "metadata": {},
   "outputs": [
    {
     "name": "stdout",
     "output_type": "stream",
     "text": [
      "75\n"
     ]
    }
   ],
   "source": [
    "print(studentsdf.iloc[4,7])"
   ]
  }
 ],
 "metadata": {
  "kernelspec": {
   "display_name": "Python 3",
   "language": "python",
   "name": "python3"
  },
  "language_info": {
   "codemirror_mode": {
    "name": "ipython",
    "version": 3
   },
   "file_extension": ".py",
   "mimetype": "text/x-python",
   "name": "python",
   "nbconvert_exporter": "python",
   "pygments_lexer": "ipython3",
   "version": "3.9.13"
  },
  "orig_nbformat": 4
 },
 "nbformat": 4,
 "nbformat_minor": 2
}
